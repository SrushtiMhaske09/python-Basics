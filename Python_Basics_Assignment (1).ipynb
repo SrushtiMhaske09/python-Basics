{
  "cells": [
    {
      "cell_type": "markdown",
      "id": "8cb76ffa",
      "metadata": {
        "id": "8cb76ffa"
      },
      "source": [
        "# Python Basics Assignment\n",
        "---"
      ]
    },
    {
      "cell_type": "markdown",
      "id": "09c0f0bd",
      "metadata": {
        "id": "09c0f0bd"
      },
      "source": [
        "## **Theory Questions**"
      ]
    },
    {
      "cell_type": "markdown",
      "id": "9a390c94",
      "metadata": {
        "id": "9a390c94"
      },
      "source": [
        "\n",
        "**1. What is Python, and why is it popular?**  \n",
        "Python is a high-level, interpreted programming language known for its readability and simplicity.  \n",
        "It is popular because of its vast libraries, community support, and cross-platform compatibility, making it ideal for web development, data science, AI, and automation.\n",
        "\n",
        "**2. What is an interpreter in Python?**  \n",
        "An interpreter executes code line by line. In Python, the interpreter translates Python code into machine code at runtime, allowing easier debugging and dynamic execution.\n",
        "\n",
        "**3. What are pre-defined keywords in Python?**  \n",
        "Keywords are reserved words that have special meaning in Python, such as `if`, `else`, `for`, `while`, `class`, `def`, etc. They cannot be used as variable names.\n",
        "\n",
        "**4. Can keywords be used as variable names?**  \n",
        "No, keywords cannot be used as variable names since they have predefined meanings in Python's syntax.\n",
        "\n",
        "**5. What is mutability in Python?**  \n",
        "Mutability means the ability of an object to be changed after creation. Mutable objects can be modified, whereas immutable ones cannot.\n",
        "\n",
        "**6. Why are lists mutable, but tuples are immutable?**  \n",
        "Lists are mutable because their elements can be changed, added, or removed. Tuples are immutable because once created, their elements cannot be altered.\n",
        "\n",
        "**7. What is the difference between “==” and “is” operators in Python?**  \n",
        "`==` compares values for equality, while `is` checks whether two variables point to the same object in memory.\n",
        "\n",
        "**8. What are logical operators in Python?**  \n",
        "Logical operators are used to combine conditional statements. They are: `and`, `or`, `not`.\n",
        "\n",
        "**9. What is type casting in Python?**  \n",
        "Type casting is converting one data type into another, e.g., converting a string to an integer using `int()`.\n",
        "\n",
        "**10. What is the difference between implicit and explicit type casting?**  \n",
        "Implicit casting is automatically done by Python (e.g., `int + float = float`). Explicit casting is manually done using functions like `int()`, `float()`, or `str()`.\n",
        "\n",
        "**11. What is the purpose of conditional statements in Python?**  \n",
        "Conditional statements control the flow of a program by executing code only if certain conditions are true.\n",
        "\n",
        "**12. How does the elif statement work?**  \n",
        "The `elif` statement allows checking multiple conditions after an initial `if`. Only the first true condition’s block is executed.\n",
        "\n",
        "**13. What is the difference between for and while loops?**  \n",
        "`for` loops iterate over a sequence, while `while` loops run as long as a condition remains true.\n",
        "\n",
        "**14. Describe a scenario where a while loop is more suitable than a for loop.**  \n",
        "A while loop is better when the number of iterations is unknown, such as reading user input until they type 'exit'.\n"
      ]
    },
    {
      "cell_type": "markdown",
      "id": "f06f0bd0",
      "metadata": {
        "id": "f06f0bd0"
      },
      "source": [
        "## **Practical Questions**"
      ]
    },
    {
      "cell_type": "code",
      "execution_count": 1,
      "id": "033095fb",
      "metadata": {
        "colab": {
          "base_uri": "https://localhost:8080/"
        },
        "id": "033095fb",
        "outputId": "e2ed211f-2e59-40e2-eb2a-fb13db4153e7"
      },
      "outputs": [
        {
          "output_type": "stream",
          "name": "stdout",
          "text": [
            "Hello, World!\n"
          ]
        }
      ],
      "source": [
        "# 1. Print Hello World\n",
        "print(\"Hello, World!\")"
      ]
    },
    {
      "cell_type": "code",
      "execution_count": 2,
      "id": "29013bd7",
      "metadata": {
        "colab": {
          "base_uri": "https://localhost:8080/"
        },
        "id": "29013bd7",
        "outputId": "285114d2-5aa2-4845-faec-28cd0ca2dc04"
      },
      "outputs": [
        {
          "output_type": "stream",
          "name": "stdout",
          "text": [
            "Name: Srushti, Age: 20\n"
          ]
        }
      ],
      "source": [
        "# 2. Display your name and age\n",
        "name = \"Srushti\"\n",
        "age = 20\n",
        "print(f\"Name: {name}, Age: {age}\")"
      ]
    },
    {
      "cell_type": "code",
      "execution_count": 3,
      "id": "67bf0a51",
      "metadata": {
        "colab": {
          "base_uri": "https://localhost:8080/"
        },
        "id": "67bf0a51",
        "outputId": "aeabb3dc-84ca-47a9-cb28-c1e28095fa6d"
      },
      "outputs": [
        {
          "output_type": "stream",
          "name": "stdout",
          "text": [
            "['False', 'None', 'True', 'and', 'as', 'assert', 'async', 'await', 'break', 'class', 'continue', 'def', 'del', 'elif', 'else', 'except', 'finally', 'for', 'from', 'global', 'if', 'import', 'in', 'is', 'lambda', 'nonlocal', 'not', 'or', 'pass', 'raise', 'return', 'try', 'while', 'with', 'yield']\n"
          ]
        }
      ],
      "source": [
        "# 3. Print all pre-defined keywords in Python\n",
        "import keyword\n",
        "print(keyword.kwlist)"
      ]
    },
    {
      "cell_type": "code",
      "execution_count": 4,
      "id": "9effbd0a",
      "metadata": {
        "colab": {
          "base_uri": "https://localhost:8080/"
        },
        "id": "9effbd0a",
        "outputId": "720a95b3-08ba-4ba0-a831-83608bef8270"
      },
      "outputs": [
        {
          "output_type": "stream",
          "name": "stdout",
          "text": [
            "Enter a word: else\n",
            "else is a keyword\n"
          ]
        }
      ],
      "source": [
        "# 4. Check if a word is a Python keyword\n",
        "import keyword\n",
        "word = input(\"Enter a word: \")\n",
        "print(f\"{word} is a keyword\" if keyword.iskeyword(word) else f\"{word} is not a keyword\")"
      ]
    },
    {
      "cell_type": "code",
      "execution_count": 5,
      "id": "f6e33f5e",
      "metadata": {
        "colab": {
          "base_uri": "https://localhost:8080/"
        },
        "id": "f6e33f5e",
        "outputId": "632b39b7-398a-4f33-ab26-539c5fe73b13"
      },
      "outputs": [
        {
          "output_type": "stream",
          "name": "stdout",
          "text": [
            "Modified list: [10, 2, 3]\n",
            "Tuples are immutable!\n"
          ]
        }
      ],
      "source": [
        "# 5. List vs Tuple mutability\n",
        "my_list = [1, 2, 3]\n",
        "my_tuple = (1, 2, 3)\n",
        "my_list[0] = 10  # Works\n",
        "print(\"Modified list:\", my_list)\n",
        "try:\n",
        "    my_tuple[0] = 10  # Error\n",
        "except TypeError:\n",
        "    print(\"Tuples are immutable!\")"
      ]
    },
    {
      "cell_type": "code",
      "execution_count": 6,
      "id": "8113df43",
      "metadata": {
        "colab": {
          "base_uri": "https://localhost:8080/"
        },
        "id": "8113df43",
        "outputId": "87888211-a774-4c17-fd7b-caa319d6c9ea"
      },
      "outputs": [
        {
          "output_type": "stream",
          "name": "stdout",
          "text": [
            "Inside function: [1, 2, 3, 4] 6\n",
            "Outside function: [1, 2, 3, 4] 5\n"
          ]
        }
      ],
      "source": [
        "# 6. Mutable vs Immutable arguments\n",
        "def modify(data_list, data_int):\n",
        "    data_list.append(4)\n",
        "    data_int += 1\n",
        "    print(\"Inside function:\", data_list, data_int)\n",
        "\n",
        "lst = [1, 2, 3]\n",
        "num = 5\n",
        "modify(lst, num)\n",
        "print(\"Outside function:\", lst, num)"
      ]
    },
    {
      "cell_type": "code",
      "execution_count": 7,
      "id": "27a466a4",
      "metadata": {
        "colab": {
          "base_uri": "https://localhost:8080/"
        },
        "id": "27a466a4",
        "outputId": "2d3ad0d4-fb1c-4d08-8084-abedac1c72c2"
      },
      "outputs": [
        {
          "output_type": "stream",
          "name": "stdout",
          "text": [
            "Enter first number: 55\n",
            "Enter second number: 12\n",
            "Addition: 67\n",
            "Subtraction: 43\n",
            "Multiplication: 660\n",
            "Division: 4.583333333333333\n"
          ]
        }
      ],
      "source": [
        "# 7. Basic arithmetic operations\n",
        "a = int(input(\"Enter first number: \"))\n",
        "b = int(input(\"Enter second number: \"))\n",
        "print(\"Addition:\", a + b)\n",
        "print(\"Subtraction:\", a - b)\n",
        "print(\"Multiplication:\", a * b)\n",
        "print(\"Division:\", a / b)"
      ]
    },
    {
      "cell_type": "code",
      "execution_count": 8,
      "id": "8aab7e05",
      "metadata": {
        "colab": {
          "base_uri": "https://localhost:8080/"
        },
        "id": "8aab7e05",
        "outputId": "6c575eea-bc87-403f-c6fe-bdbc97e87958"
      },
      "outputs": [
        {
          "output_type": "stream",
          "name": "stdout",
          "text": [
            "x and y: False\n",
            "x or y: True\n",
            "not x: False\n"
          ]
        }
      ],
      "source": [
        "# 8. Logical operators demo\n",
        "x, y = True, False\n",
        "print(\"x and y:\", x and y)\n",
        "print(\"x or y:\", x or y)\n",
        "print(\"not x:\", not x)"
      ]
    },
    {
      "cell_type": "code",
      "execution_count": 9,
      "id": "129dfcbd",
      "metadata": {
        "colab": {
          "base_uri": "https://localhost:8080/"
        },
        "id": "129dfcbd",
        "outputId": "bbbcd2e5-4b8a-434c-ab22-daf1b7ff56a8"
      },
      "outputs": [
        {
          "output_type": "stream",
          "name": "stdout",
          "text": [
            "Enter a number: 15\n",
            "15 15.0 True\n"
          ]
        }
      ],
      "source": [
        "# 9. Type casting user input\n",
        "s = input(\"Enter a number: \")\n",
        "print(int(s), float(s), bool(int(s)))"
      ]
    },
    {
      "cell_type": "code",
      "execution_count": 10,
      "id": "7fcd2d78",
      "metadata": {
        "colab": {
          "base_uri": "https://localhost:8080/"
        },
        "id": "7fcd2d78",
        "outputId": "82af7beb-b451-42db-a628-a71dff2d730a"
      },
      "outputs": [
        {
          "output_type": "stream",
          "name": "stdout",
          "text": [
            "[1, 2, 3]\n"
          ]
        }
      ],
      "source": [
        "# 10. Type casting list elements\n",
        "lst = ['1', '2', '3']\n",
        "num_list = list(map(int, lst))\n",
        "print(num_list)"
      ]
    },
    {
      "cell_type": "code",
      "execution_count": 11,
      "id": "9fb1f41e",
      "metadata": {
        "colab": {
          "base_uri": "https://localhost:8080/"
        },
        "id": "9fb1f41e",
        "outputId": "6957afbd-4c5d-4555-b694-cb803fd3ce19"
      },
      "outputs": [
        {
          "output_type": "stream",
          "name": "stdout",
          "text": [
            "Enter a number: 85\n",
            "Positive\n"
          ]
        }
      ],
      "source": [
        "# 11. Check if number is positive, negative, or zero\n",
        "num = float(input(\"Enter a number: \"))\n",
        "if num > 0:\n",
        "    print(\"Positive\")\n",
        "elif num < 0:\n",
        "    print(\"Negative\")\n",
        "else:\n",
        "    print(\"Zero\")"
      ]
    },
    {
      "cell_type": "code",
      "execution_count": 12,
      "id": "8fef2faa",
      "metadata": {
        "colab": {
          "base_uri": "https://localhost:8080/"
        },
        "id": "8fef2faa",
        "outputId": "2618e390-924f-4794-96ef-be9ab02c950a"
      },
      "outputs": [
        {
          "output_type": "stream",
          "name": "stdout",
          "text": [
            "1\n",
            "2\n",
            "3\n",
            "4\n",
            "5\n",
            "6\n",
            "7\n",
            "8\n",
            "9\n",
            "10\n"
          ]
        }
      ],
      "source": [
        "# 12. For loop 1 to 10\n",
        "for i in range(1, 11):\n",
        "    print(i)"
      ]
    },
    {
      "cell_type": "code",
      "execution_count": 13,
      "id": "54448bd4",
      "metadata": {
        "colab": {
          "base_uri": "https://localhost:8080/"
        },
        "id": "54448bd4",
        "outputId": "d7ec75d5-f4a4-4c7d-dbe2-f3630b19ad13"
      },
      "outputs": [
        {
          "output_type": "stream",
          "name": "stdout",
          "text": [
            "Sum of even numbers between 1 and 50: 650\n"
          ]
        }
      ],
      "source": [
        "# 13. Sum of even numbers between 1 and 50\n",
        "even_sum = sum(i for i in range(1, 51) if i % 2 == 0)\n",
        "print(\"Sum of even numbers between 1 and 50:\", even_sum)"
      ]
    },
    {
      "cell_type": "code",
      "execution_count": 15,
      "id": "b4755126",
      "metadata": {
        "colab": {
          "base_uri": "https://localhost:8080/"
        },
        "id": "b4755126",
        "outputId": "2cfa3d95-8d98-4ddb-dd94-28cf5e5a7eb1"
      },
      "outputs": [
        {
          "output_type": "stream",
          "name": "stdout",
          "text": [
            "Enter a string: srushti\n",
            "Reversed string: ithsurs\n"
          ]
        }
      ],
      "source": [
        "# 14. Reverse a string using while loop\n",
        "s = input(\"Enter a string: \")\n",
        "rev = ''\n",
        "i = len(s) - 1\n",
        "while i >= 0:\n",
        "    rev += s[i]\n",
        "    i -= 1\n",
        "print(\"Reversed string:\", rev)"
      ]
    },
    {
      "cell_type": "code",
      "execution_count": 16,
      "id": "336e9704",
      "metadata": {
        "colab": {
          "base_uri": "https://localhost:8080/"
        },
        "id": "336e9704",
        "outputId": "0d61bef8-982d-47f3-b82f-a2099661c650"
      },
      "outputs": [
        {
          "output_type": "stream",
          "name": "stdout",
          "text": [
            "Enter a number: 5\n",
            "Factorial: 120\n"
          ]
        }
      ],
      "source": [
        "# 15. Factorial using while loop\n",
        "n = int(input(\"Enter a number: \"))\n",
        "fact = 1\n",
        "i = 1\n",
        "while i <= n:\n",
        "    fact *= i\n",
        "    i += 1\n",
        "print(\"Factorial:\", fact)"
      ]
    }
  ],
  "metadata": {
    "colab": {
      "provenance": []
    },
    "language_info": {
      "name": "python"
    },
    "kernelspec": {
      "name": "python3",
      "display_name": "Python 3"
    }
  },
  "nbformat": 4,
  "nbformat_minor": 5
}